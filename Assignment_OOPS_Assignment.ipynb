{
  "nbformat": 4,
  "nbformat_minor": 0,
  "metadata": {
    "colab": {
      "provenance": []
    },
    "kernelspec": {
      "name": "python3",
      "display_name": "Python 3"
    },
    "language_info": {
      "name": "python"
    }
  },
  "cells": [
    {
      "cell_type": "markdown",
      "source": [
        "#Questions & Answers[THEORY]"
      ],
      "metadata": {
        "id": "jrDg5lltQAeR"
      }
    },
    {
      "cell_type": "markdown",
      "source": [
        "**Q1-What is Object-Oriented Programming (OOP)?**\n",
        "\n",
        "> Object-Oriented Programming (OOP) is a programming paradigm that organizes code around objects, which are instances of classes combining data (attributes) and behavior (methods)."
      ],
      "metadata": {
        "id": "Le8lT4y3QDdQ"
      }
    },
    {
      "cell_type": "markdown",
      "source": [
        "**Q2-What is a class in OOP?**\n",
        "\n",
        ">In Object-Oriented Programming (OOP), a class is a blueprint or template for creating objects. It defines the properties (attributes) and behaviors (methods) that objects created from the class will have."
      ],
      "metadata": {
        "id": "wSFzht7rQDZ8"
      }
    },
    {
      "cell_type": "markdown",
      "source": [
        "**Q3-What is an object in OOP?**\n",
        "\n",
        ">In Object-Oriented Programming (OOP), an object is a specific instance of a class, which acts as a blueprint. An object combines data (attributes) and behavior (methods) defined by the class, representing a unique entity with its own state. Essentially, while a class defines the structure and capabilities, an object is the actual \"thing\" created from that class, holding specific values for its attributes."
      ],
      "metadata": {
        "id": "x15MTNL-QDXd"
      }
    },
    {
      "cell_type": "markdown",
      "source": [
        "**Q4-What is the difference between abstraction and encapsulation?**\n",
        "\n",
        ">In Object-Oriented Programming (OOP), abstraction and encapsulation are two fundamental principles, but they serve distinct purposes.\n",
        "Abstraction is the process of hiding complex implementation details and exposing only the essential features or functionalities of an object to the user. It focuses on what an object does, not how it does it."
      ],
      "metadata": {
        "id": "H7l2NL7XQDU1"
      }
    },
    {
      "cell_type": "markdown",
      "source": [
        "**Q5-What are dunder methods in Python?**\n",
        "\n",
        ">In Python, dunder methods (short for \"double underscore\" methods) are special methods with names surrounded by double underscores (e.g., __init__, __str__). They are also called magic methods or special methods because they enable classes to interact with Python's built-in operations, such as arithmetic, comparison, or object initialization. Dunder methods allow you to define how objects of a class behave with Python’s operators and built-in functions, effectively customizing or overloading their behavior."
      ],
      "metadata": {
        "id": "OXO2xMDvQDSo"
      }
    },
    {
      "cell_type": "markdown",
      "source": [
        "**Q6-Explain the concept of inheritance in OOP.**\n",
        "\n",
        ">Inheritance in Object-Oriented Programming (OOP) is a mechanism that allows a class (called a child or derived class) to inherit attributes and methods from another class (called a parent or base class). This promotes code reuse, modularity, and the ability to create hierarchical relationships between classes, enabling more specific classes to build upon or extend the functionality of more general ones."
      ],
      "metadata": {
        "id": "hX1AGi32QDQT"
      }
    },
    {
      "cell_type": "markdown",
      "source": [
        "**Q7- What is polymorphism in OOP?**\n",
        "\n",
        ">Polymorphism in Object-Oriented Programming (OOP) is the ability of different classes to be treated as instances of a common parent class or interface, while each class provides its own specific implementation of shared methods. The term \"polymorphism\" means \"many forms,\" reflecting how objects can respond differently to the same method call based on their type. It enhances flexibility, extensibility, and code reusability by allowing a single interface to represent multiple behaviors."
      ],
      "metadata": {
        "id": "n5jy_yAkQDNq"
      }
    },
    {
      "cell_type": "markdown",
      "source": [
        "**Q8-How is encapsulation achieved in Python?**\n",
        "\n",
        ">Encapsulation in Object-Oriented Programming (OOP) is the principle of bundling data (attributes) and methods that operate on that data within a class, while restricting direct access to some of the object’s components to protect its internal state. In Python, encapsulation is achieved primarily through access control mechanisms, naming conventions, and getter/setter methods, though Python’s approach is more convention-based than strictly enforced compared to languages like Java or C++."
      ],
      "metadata": {
        "id": "eco0qMgwQDLK"
      }
    },
    {
      "cell_type": "markdown",
      "source": [
        "**Q9-What is a constructor in Python?**\n",
        "\n",
        ">In Python, a constructor is a special method in a class that is automatically called when an object of that class is instantiated (created). It is used to initialize the object's attributes and set up its initial state. In Python, the constructor is defined using the __init__ method, which is a type of dunder (double underscore) method. The constructor plays a key role in encapsulation by ensuring that an object starts with a well-defined state and supports other Object-Oriented Programming (OOP) principles like inheritance and polymorphism."
      ],
      "metadata": {
        "id": "acTgcYeBQDIR"
      }
    },
    {
      "cell_type": "markdown",
      "source": [
        "**Q10-What are class and static methods in Python?**\n",
        "\n",
        ">In Python, class methods and static methods are special types of methods in a class that differ from regular instance methods in how they are called and what they can access. They are defined using decorators (@classmethod and @staticmethod) and serve specific purposes in Object-Oriented Programming (OOP), enhancing flexibility and supporting principles like encapsulation, inheritance, and polymorphism.\n"
      ],
      "metadata": {
        "id": "mRPkwBPnQDFM"
      }
    },
    {
      "cell_type": "markdown",
      "source": [
        "**Q11-What is method overloading in Python?\n",
        "\n",
        ">Method overloading in Object-Oriented Programming (OOP) refers to the ability to define multiple methods with the same name but different parameters (e.g., different number, types, or order of parameters) within the same class. This allows a method to behave differently based on the arguments it receives, supporting polymorphism by enabling flexible method calls. However, Python handles method overloading differently compared to statically typed languages like Java or C++, as Python does not support traditional method overloading natively due to its dynamic typing and single-method-name resolution."
      ],
      "metadata": {
        "id": "ti_9AWwPQC1m"
      }
    },
    {
      "cell_type": "markdown",
      "source": [
        "**Q12-What is method overriding in OOP?**\n",
        "\n",
        ">Method overriding in Object-Oriented Programming (OOP) is a feature that allows a subclass (child class) to provide a specific implementation of a method that is already defined in its parent class (superclass). This enables the subclass to modify or extend the behavior of the inherited method while keeping the same method name, parameters, and return type. Method overriding is a key mechanism for achieving runtime polymorphism, allowing objects of different classes to respond differently to the same method call based on their actual type."
      ],
      "metadata": {
        "id": "hM0rFL3YTJr8"
      }
    },
    {
      "cell_type": "markdown",
      "source": [
        "**Q13-What is a property decorator in Python?\n",
        "\n",
        ">In Python, a property decorator is a built-in mechanism that allows you to define methods in a class that can be accessed like attributes, providing a way to manage access to an object’s data while maintaining encapsulation. The @property decorator, along with its companions @<property>.setter and @<property>.deleter, enables you to create getter, setter, and deleter methods for an attribute, making it possible to control how the attribute is accessed, modified, or deleted, all while presenting a clean, attribute-like interface to the user. This is particularly useful in Object-Oriented Programming (OOP) for enforcing data validation, computed properties, or read-only attributes."
      ],
      "metadata": {
        "id": "-5rH0nmXTJpL"
      }
    },
    {
      "cell_type": "markdown",
      "source": [
        "**Q14-Why is polymorphism important in OOP?**\n",
        "\n",
        ">Polymorphism in Object-Oriented Programming (OOP) is important because it allows objects of different classes to be treated uniformly through a common interface or parent class, while each object executes its own specific implementation of shared methods. This promotes flexibility, extensibility, and reusability in code, enabling developers to write more modular and maintainable systems. In Python, polymorphism is achieved primarily through method overriding and duck typing, and its significance spans across various aspects of OOP design."
      ],
      "metadata": {
        "id": "kZ1zE3ggTJmx"
      }
    },
    {
      "cell_type": "markdown",
      "source": [
        "Q15-What is an abstract class in Python?**\n",
        "\n",
        ">In Python, an abstract class is a class that cannot be instantiated directly and is designed to serve as a blueprint for other classes. It defines a common interface or structure that its subclasses must follow, often including abstract methods—methods declared but not implemented in the abstract class. Abstract classes are used to enforce a contract for subclasses, ensuring they implement specific methods, and are a key mechanism for achieving abstraction in Object-Oriented Programming (OOP). In Python, abstract classes are implemented using the abc module (Abstract Base Classes)."
      ],
      "metadata": {
        "id": "Be8j1A_MTJkP"
      }
    },
    {
      "cell_type": "markdown",
      "source": [
        "**Q16-What are the advantages of OOP?**\n",
        "\n",
        ">Object-Oriented Programming (OOP) is a programming paradigm that organizes code around objects, which combine data (attributes) and behavior (methods). Its advantages stem from its core principles—encapsulation, inheritance, polymorphism, and abstraction—which make it a powerful approach for designing robust, scalable, and maintainable software."
      ],
      "metadata": {
        "id": "Q-y_lXJYTJhz"
      }
    },
    {
      "cell_type": "markdown",
      "source": [
        "**Q17-What is the difference between a class variable and an instance variable?**\n",
        "\n",
        ">In Object-Oriented Programming (OOP) in Python, class variables and instance variables are two types of variables defined within a class, but they differ in their scope, purpose, and behavior. Understanding their distinction is key to designing effective classes, as they impact how data is stored and accessed across objects and the class itself."
      ],
      "metadata": {
        "id": "a2ARr6rGTJfP"
      }
    },
    {
      "cell_type": "markdown",
      "source": [
        "**Q18-What is multiple inheritance in Python?**\n",
        "\n",
        ">Multiple inheritance in Python is an Object-Oriented Programming (OOP) feature that allows a class to inherit attributes and methods from more than one parent class. This enables a subclass to combine the functionality of multiple parent classes, promoting code reuse and flexibility. Python fully supports multiple inheritance, unlike some languages (e.g., Java) that restrict it to avoid complexity. However, it requires careful design to manage potential issues like the diamond problem. Below, I’ll explain multiple inheritance, how it works in Python, its connection to OOP principles, and provide examples, building on concepts like inheritance, polymorphism, and encapsulation discussed in prior conversations."
      ],
      "metadata": {
        "id": "R6tW5FYeTJcx"
      }
    },
    {
      "cell_type": "markdown",
      "source": [
        "**Q19-Explain the purpose of ‘’__str__’ and ‘__repr__’ ‘ methods in Python.**\n",
        "\n",
        ">In Python, the __str__ and __repr__ methods are special (dunder) methods used to define how an object is represented as a string. They are part of Python’s data model and are invoked implicitly by certain built-in functions or operations to provide human-readable or developer-oriented string representations of objects. These methods are crucial in Object-Oriented Programming (OOP) for improving object usability, debugging, and integration with Python’s built-in features, and they relate to principles like polymorphism and abstraction."
      ],
      "metadata": {
        "id": "hfcON_BVTJaF"
      }
    },
    {
      "cell_type": "markdown",
      "source": [
        "**Q20-What is the significance of the ‘super()’ function in Python?**\n",
        "\n",
        ">The super() function in Python is a built-in function used in Object-Oriented Programming (OOP) to call methods or access attributes from a parent (or superclass) in a class hierarchy. It is particularly important in the context of inheritance and multiple inheritance, as it allows a subclass to invoke the behavior of its parent class(es) while extending or customizing it. The super() function is essential for maintaining code reusability, adhering to OOP principles like inheritance, polymorphism, and encapsulation, and resolving method calls in complex inheritance scenarios, such as those involving multiple inheritance."
      ],
      "metadata": {
        "id": "RUau6w5dTJXa"
      }
    },
    {
      "cell_type": "markdown",
      "source": [
        "**Q21-What is the significance of the __del__ method in Python?**\n",
        "\n",
        ">The __del__ method in Python is known as a destructor. It's a special method that's called when an object is about to be destroyed, i.e., when it is garbage collected."
      ],
      "metadata": {
        "id": "I98bEFfaTJUU"
      }
    },
    {
      "cell_type": "markdown",
      "source": [
        "**Q22-What is the difference between @staticmethod and @classmethod in Python?**\n",
        "\n",
        "> In Python, @staticmethod and @classmethod are decorators used to define special types of methods inside a class — but they behave differently and serve different purposes.The __del__ method is automatically called when an object’s lifetime ends, i.e., when there are no more references to it, and it’s about to be garbage collected."
      ],
      "metadata": {
        "id": "aQAHRRKrTJRT"
      }
    },
    {
      "cell_type": "markdown",
      "source": [
        "**Q23- How does polymorphism work in Python with inheritance?**\n",
        "\n",
        ">Polymorphism in Python allows objects of different classes to be treated as instances of the same class through a common interface, usually via inheritance. It enables one interface (method or function) to behave differently based on the object it's acting on."
      ],
      "metadata": {
        "id": "q1zwo7iDTJLW"
      }
    },
    {
      "cell_type": "markdown",
      "source": [
        "**Q24-What is method chaining in Python OOP?**\n",
        "\n",
        ">Method chaining in Python is an object-oriented programming technique where you call multiple methods on the same object in a single line, one after another. Each method returns the object itself (self), allowing subsequent methods to be called in a chain."
      ],
      "metadata": {
        "id": "hnr4U5xrTJH6"
      }
    },
    {
      "cell_type": "markdown",
      "source": [
        "\n",
        "**Q25-What is the purpose of the __call__ method in Python?**\n",
        "\n",
        ">The __call__ method in Python is a special method that makes an instance of a class behave like a function. If a class defines a __call__ method, then its instances can be called using parentheses, just like a regular function."
      ],
      "metadata": {
        "id": "4lIMDqQ2TI76"
      }
    },
    {
      "cell_type": "markdown",
      "source": [
        "##Questions & Answers[PRACTICALS]"
      ],
      "metadata": {
        "id": "EuWRdzrZTIRe"
      }
    },
    {
      "cell_type": "markdown",
      "source": [
        "**Q1-Create a parent class Animal with a method speak() that prints a generic message. Create a child class Dog\n",
        "that overrides the speak() method to print \"Bark!\".**"
      ],
      "metadata": {
        "id": "YH3oopgkXOgg"
      }
    },
    {
      "cell_type": "code",
      "execution_count": null,
      "metadata": {
        "colab": {
          "base_uri": "https://localhost:8080/"
        },
        "id": "ypP6ahUUP_YA",
        "outputId": "48a90529-9d44-4892-c7d8-e17bb684f5b7"
      },
      "outputs": [
        {
          "output_type": "stream",
          "name": "stdout",
          "text": [
            "The animal makes a sound\n",
            "Bark!\n"
          ]
        }
      ],
      "source": [
        "# Parent class\n",
        "class Animal:\n",
        "    def speak(self):\n",
        "        print(\"The animal makes a sound\")\n",
        "\n",
        "# Child class\n",
        "class Dog(Animal):\n",
        "    def speak(self):\n",
        "        print(\"Bark!\")\n",
        "\n",
        "# Testing\n",
        "a = Animal()\n",
        "a.speak()   # Output: The animal makes a sound\n",
        "\n",
        "d = Dog()\n",
        "d.speak()   # Output: Bark!\n"
      ]
    },
    {
      "cell_type": "markdown",
      "source": [
        "**Q2-Write a program to create an abstract class Shape with a method area(). Derive classes Circle and Rectangle\n",
        "from it and implement the area() method in both.**"
      ],
      "metadata": {
        "id": "065bW-JsXfNE"
      }
    },
    {
      "cell_type": "code",
      "source": [
        "from abc import ABC, abstractmethod\n",
        "import math\n",
        "\n",
        "# Abstract class\n",
        "class Shape(ABC):\n",
        "    @abstractmethod\n",
        "    def area(self):\n",
        "        pass  # Abstract method with no implementation\n",
        "\n",
        "# Derived class: Circle\n",
        "class Circle(Shape):\n",
        "    def __init__(self, radius):\n",
        "        self.radius = radius\n",
        "\n",
        "    def area(self):\n",
        "        return math.pi * self.radius ** 2\n",
        "\n",
        "# Derived class: Rectangle\n",
        "class Rectangle(Shape):\n",
        "    def __init__(self, width, height):\n",
        "        self.width = width\n",
        "        self.height = height\n",
        "\n",
        "    def area(self):\n",
        "        return self.width * self.height\n",
        "\n",
        "# Testing\n",
        "circle = Circle(5)\n",
        "rectangle = Rectangle(4, 6)\n",
        "\n",
        "print(f\"Circle Area: {circle.area():.2f}\")     # Output: Circle Area: 78.54\n",
        "print(f\"Rectangle Area: {rectangle.area()}\")   # Output: Rectangle Area: 24\n"
      ],
      "metadata": {
        "colab": {
          "base_uri": "https://localhost:8080/"
        },
        "id": "QDCLrY8EXaIm",
        "outputId": "5fbb3a6c-a176-40e4-843e-263717323d5f"
      },
      "execution_count": null,
      "outputs": [
        {
          "output_type": "stream",
          "name": "stdout",
          "text": [
            "Circle Area: 78.54\n",
            "Rectangle Area: 24\n"
          ]
        }
      ]
    },
    {
      "cell_type": "markdown",
      "source": [
        "**Q3-Implement a multi-level inheritance scenario where a class Vehicle has an attribute type. Derive a class Car and further derive a class ElectricCar that adds a battery attribute.**"
      ],
      "metadata": {
        "id": "sPHIW5aOXp_9"
      }
    },
    {
      "cell_type": "code",
      "source": [
        "class Vehicle:\n",
        "    def __init__(self, vehicle_type):\n",
        "        self.type = vehicle_type\n",
        "\n",
        "    def get_type(self):\n",
        "        return self.type\n",
        "\n",
        "class Car(Vehicle):\n",
        "    def __init__(self, vehicle_type, make, model):\n",
        "        super().__init__(vehicle_type)\n",
        "        self.make = make\n",
        "        self.model = model\n",
        "\n",
        "    def get_details(self):\n",
        "        return f\"Type: {self.type}, Make: {self.make}, Model: {self.model}\"\n",
        "\n",
        "class ElectricCar(Car):\n",
        "    def __init__(self, vehicle_type, make, model, battery_capacity):\n",
        "        super().__init__(vehicle_type, make, model)\n",
        "        self.battery_capacity = battery_capacity  # in kWh\n",
        "\n",
        "    def get_electric_details(self):\n",
        "        return f\"{self.get_details()}, Battery Capacity: {self.battery_capacity} kWh\"\n",
        "\n",
        "# Example usage:\n",
        "my_electric_car = ElectricCar(\"Electric Vehicle\", \"Tesla\", \"Model 3\", 75)\n",
        "print(my_electric_car.get_electric_details())\n",
        "\n",
        "my_car = Car(\"Sedan\", \"Honda\", \"Civic\")\n",
        "print(my_car.get_details())\n",
        "\n",
        "my_vehicle = Vehicle(\"General Transport\")\n",
        "print(my_vehicle.get_type())"
      ],
      "metadata": {
        "colab": {
          "base_uri": "https://localhost:8080/"
        },
        "id": "691aK_UuX1l0",
        "outputId": "565590b5-1867-42ca-dd61-e397342c0013"
      },
      "execution_count": null,
      "outputs": [
        {
          "output_type": "stream",
          "name": "stdout",
          "text": [
            "Type: Electric Vehicle, Make: Tesla, Model: Model 3, Battery Capacity: 75 kWh\n",
            "Type: Sedan, Make: Honda, Model: Civic\n",
            "General Transport\n"
          ]
        }
      ]
    },
    {
      "cell_type": "markdown",
      "source": [
        "**Q4-**Demonstrate polymorphism by creating a base class Bird with a method fly(). Create two derived classes\n",
        "Sparrow and Penguin that override the fly() method.**"
      ],
      "metadata": {
        "id": "DLqgy_pnYngC"
      }
    },
    {
      "cell_type": "code",
      "source": [
        "class Bird:\n",
        "    \"\"\"Base class representing a generic bird.\"\"\"\n",
        "    def fly(self):\n",
        "        \"\"\"Generic fly method for birds.\"\"\"\n",
        "        print(\"Most birds can fly.\")\n",
        "\n",
        "class Sparrow(Bird):\n",
        "    \"\"\"Derived class representing a sparrow.\"\"\"\n",
        "    def fly(self):\n",
        "        \"\"\"Override the fly method for sparrows.\"\"\"\n",
        "        print(\"A sparrow flies gracefully through the air.\")\n",
        "\n",
        "class Penguin(Bird):\n",
        "    \"\"\"Derived class representing a penguin.\"\"\"\n",
        "    def fly(self):\n",
        "        \"\"\"Override the fly method for penguins, indicating they cannot fly.\"\"\"\n",
        "        print(\"A penguin cannot fly, but it can swim expertly.\")\n",
        "\n",
        "# Demonstrate polymorphism\n",
        "def make_bird_fly(bird_object):\n",
        "    \"\"\"Function to call the fly method on any Bird object.\"\"\"\n",
        "    bird_object.fly()\n",
        "\n",
        "# Create instances of the classes\n",
        "generic_bird = Bird()\n",
        "sparrow_instance = Sparrow()\n",
        "penguin_instance = Penguin()\n",
        "\n",
        "# Call the make_bird_fly function with different bird objects\n",
        "print(\"Demonstrating polymorphism:\")\n",
        "make_bird_fly(generic_bird)\n",
        "make_bird_fly(sparrow_instance)\n",
        "make_bird_fly(penguin_instance)"
      ],
      "metadata": {
        "colab": {
          "base_uri": "https://localhost:8080/"
        },
        "id": "1oFIdl1RYfzE",
        "outputId": "28a87698-d97e-4c19-f482-0ba72a74ba80"
      },
      "execution_count": null,
      "outputs": [
        {
          "output_type": "stream",
          "name": "stdout",
          "text": [
            "Demonstrating polymorphism:\n",
            "Most birds can fly.\n",
            "A sparrow flies gracefully through the air.\n",
            "A penguin cannot fly, but it can swim expertly.\n"
          ]
        }
      ]
    },
    {
      "cell_type": "markdown",
      "source": [
        "**Q5-Write a program to demonstrate encapsulation by creating a class BankAccount with private attributes\n",
        "balance and methods to deposit, withdraw, and check balance.**"
      ],
      "metadata": {
        "id": "cUQ7znAyYyet"
      }
    },
    {
      "cell_type": "code",
      "source": [
        "class BankAccount:\n",
        "    def __init__(self, initial_balance=0):\n",
        "        self.__balance = initial_balance  # Private attribute\n",
        "\n",
        "    def deposit(self, amount):\n",
        "        if amount > 0:\n",
        "            self.__balance += amount\n",
        "            print(f\"Deposited ₹{amount}\")\n",
        "        else:\n",
        "            print(\"Deposit amount must be positive.\")\n",
        "\n",
        "    def withdraw(self, amount):\n",
        "        if 0 < amount <= self.__balance:\n",
        "            self.__balance -= amount\n",
        "            print(f\"Withdrew ₹{amount}\")\n",
        "        else:\n",
        "            print(\"Insufficient balance or invalid amount.\")\n",
        "\n",
        "    def check_balance(self):\n",
        "        print(f\"Current Balance: ₹{self.__balance}\")\n",
        "\n",
        "# --- Testing the class ---\n",
        "account = BankAccount(1000)     # Initial balance ₹1000\n",
        "account.check_balance()         # Current Balance: ₹1000\n",
        "\n",
        "account.deposit(500)            # Deposited ₹500\n",
        "account.check_balance()         # Current Balance: ₹1500\n",
        "\n",
        "account.withdraw(200)           # Withdrew ₹200\n",
        "account.check_balance()         # Current Balance: ₹1300\n",
        "\n",
        "# Trying to access private attribute directly (not allow\n"
      ],
      "metadata": {
        "colab": {
          "base_uri": "https://localhost:8080/"
        },
        "id": "ytx40-ULZAAq",
        "outputId": "2fd2cda7-7559-4eb0-dae7-693976b5ff44"
      },
      "execution_count": null,
      "outputs": [
        {
          "output_type": "stream",
          "name": "stdout",
          "text": [
            "Current Balance: ₹1000\n",
            "Deposited ₹500\n",
            "Current Balance: ₹1500\n",
            "Withdrew ₹200\n",
            "Current Balance: ₹1300\n"
          ]
        }
      ]
    },
    {
      "cell_type": "markdown",
      "source": [
        "**Q6-Demonstrate runtime polymorphism using a method play() in a base class Instrument. Derive classes Guitar\n",
        "and Piano that implement their own version of play().**"
      ],
      "metadata": {
        "id": "2MW5cBmoZeM9"
      }
    },
    {
      "cell_type": "code",
      "source": [
        "# Base class\n",
        "class Instrument:\n",
        "    def play(self):\n",
        "        print(\"Playing an instrument\")\n",
        "\n",
        "# Derived class\n",
        "class Guitar(Instrument):\n",
        "    def play(self):\n",
        "        print(\"Strumming the guitar\")\n",
        "\n",
        "# Derived class\n",
        "class Piano(Instrument):\n",
        "    def play(self):\n",
        "        print(\"Playing the piano\")\n",
        "\n",
        "# Function that demonstrates polymorphism\n",
        "def start_music(instrument):\n",
        "    instrument.play()  # Calls the appropriate method at runtime\n",
        "\n",
        "# Testing\n",
        "inst1 = Guitar()\n",
        "inst2 = Piano()\n",
        "\n",
        "start_music(inst1)   # Output: Strumming the guitar\n",
        "start_music(inst2)   # Output: Playing the piano\n"
      ],
      "metadata": {
        "colab": {
          "base_uri": "https://localhost:8080/"
        },
        "id": "_mH0v_KSZOOv",
        "outputId": "18e767b9-3183-42bf-ad72-359e693b02b3"
      },
      "execution_count": null,
      "outputs": [
        {
          "output_type": "stream",
          "name": "stdout",
          "text": [
            "Strumming the guitar\n",
            "Playing the piano\n"
          ]
        }
      ]
    },
    {
      "cell_type": "markdown",
      "source": [
        "**Q7-Create a class MathOperations with a class method add_numbers() to add two numbers and a static\n",
        "method subtract_numbers() to subtract two numbers.**"
      ],
      "metadata": {
        "id": "vAJhqM1OZq9I"
      }
    },
    {
      "cell_type": "code",
      "source": [
        "class MathOperations:\n",
        "    @classmethod\n",
        "    def add_numbers(cls, a, b):\n",
        "        return a + b\n",
        "\n",
        "    @staticmethod\n",
        "    def subtract_numbers(a, b):\n",
        "        return a - b\n",
        "\n",
        "# Testing\n",
        "print(\"Addition:\", MathOperations.add_numbers(10, 5))      # Output: 15\n",
        "print(\"Subtraction:\", MathOperations.subtract_numbers(10, 5))  # Output: 5\n"
      ],
      "metadata": {
        "colab": {
          "base_uri": "https://localhost:8080/"
        },
        "id": "pVjmn4coZm1Y",
        "outputId": "ceb972d6-1200-41b3-ad0e-391af6faec8c"
      },
      "execution_count": null,
      "outputs": [
        {
          "output_type": "stream",
          "name": "stdout",
          "text": [
            "Addition: 15\n",
            "Subtraction: 5\n"
          ]
        }
      ]
    },
    {
      "cell_type": "markdown",
      "source": [
        "**Q8-Implement a class Person with a class method to count the total number of persons created.**"
      ],
      "metadata": {
        "id": "Ge1h5JNYZ6pg"
      }
    },
    {
      "cell_type": "code",
      "source": [
        "class Person:\n",
        "    count = 0  # Class variable to store number of persons\n",
        "\n",
        "    def __init__(self, name):\n",
        "        self.name = name\n",
        "        Person.count += 1  # Increment count whenever a new Person is created\n",
        "\n",
        "    @classmethod\n",
        "    def total_persons(cls):\n",
        "        return cls.count  # Return total number of Person instances\n",
        "\n",
        "# Creating Person in"
      ],
      "metadata": {
        "id": "I56FVO5RZ48h"
      },
      "execution_count": null,
      "outputs": []
    },
    {
      "cell_type": "markdown",
      "source": [
        "**Q9-Write a class Fraction with attributes numerator and denominator. Override the str method to display the\n",
        "fraction as \"numerator/denominator\".**"
      ],
      "metadata": {
        "id": "5ol9IM4faKV4"
      }
    },
    {
      "cell_type": "code",
      "source": [
        "class Fraction:\n",
        "    def __init__(self, numerator, denominator):\n",
        "        self.numerator = numerator\n",
        "        self.denominator = denominator\n",
        "\n",
        "    def __str__(self):\n",
        "        return f\"{self.numerator}/{self.denominator}\"\n",
        "\n",
        "# Testing\n",
        "f1 = Fraction(3, 4)\n",
        "f2 = Fraction(5, 8)\n",
        "\n",
        "print(f1)  # Output: 3/4\n",
        "print(f2)  # Output: 5/8\n"
      ],
      "metadata": {
        "colab": {
          "base_uri": "https://localhost:8080/"
        },
        "id": "gSv5dcG-aC6Q",
        "outputId": "b18e5027-492e-4933-bb0c-33c324b00535"
      },
      "execution_count": null,
      "outputs": [
        {
          "output_type": "stream",
          "name": "stdout",
          "text": [
            "3/4\n",
            "5/8\n"
          ]
        }
      ]
    },
    {
      "cell_type": "markdown",
      "source": [
        "**Q10-Demonstrate operator overloading by creating a class Vector and overriding the add method to add two\n",
        "vectors.**"
      ],
      "metadata": {
        "id": "Qr7uAhGEaScN"
      }
    },
    {
      "cell_type": "code",
      "source": [
        "class Vector:\n",
        "    def __init__(self, x, y):\n",
        "        self.x = x\n",
        "        self.y = y\n",
        "\n",
        "    def __add__(self, other):\n",
        "        # Overload + operator to add two vectors\n",
        "        return Vector(self.x + other.x, self.y + other.y)\n",
        "\n",
        "    def __str__(self):\n",
        "        return f\"Vector({self.x}, {self.y})\"\n",
        "\n",
        "# Testing\n",
        "v1 = Vector(2, 3)\n",
        "v2 = Vector(4, 5)\n",
        "\n",
        "v3 = v1 + v2  # Uses overloaded __add__ method\n",
        "\n",
        "print(v1)  # Output: Vector(2, 3)\n",
        "print(v2)  # Output: Vector(4, 5)\n",
        "print(v3)  # Output: Vector(6, 8)"
      ],
      "metadata": {
        "colab": {
          "base_uri": "https://localhost:8080/"
        },
        "id": "aUCpvzyMaQbk",
        "outputId": "3c4c21ec-931d-4bcc-e939-d12efd12374b"
      },
      "execution_count": null,
      "outputs": [
        {
          "output_type": "stream",
          "name": "stdout",
          "text": [
            "Vector(2, 3)\n",
            "Vector(4, 5)\n",
            "Vector(6, 8)\n"
          ]
        }
      ]
    },
    {
      "cell_type": "markdown",
      "source": [
        "**Q11- Create a class Person with attributes name and age. Add a method greet() that prints \"Hello, my name is\n",
        "{name} and I am {age} years old.\"**"
      ],
      "metadata": {
        "id": "UQsvlsrpacYe"
      }
    },
    {
      "cell_type": "code",
      "source": [
        "class Person:\n",
        "    def __init__(self, name, age):\n",
        "        self.name = name\n",
        "        self.age = age\n",
        "\n",
        "    def greet(self):\n",
        "        print(f\"Hello, my name is {self.name} and I am {self.age} years old.\")\n",
        "\n",
        "# Testing\n",
        "p1 = Person(\"Alice\", 25)\n",
        "p2 = Person(\"Bob\", 30)\n",
        "\n",
        "p1.greet()  # Output: Hello, my name is Alice and I am 25 years old.\n",
        "p2.greet()  # Output: Hello, my name is Bob and I am 30 years old.\n"
      ],
      "metadata": {
        "colab": {
          "base_uri": "https://localhost:8080/"
        },
        "id": "G3NXBmJiaayi",
        "outputId": "2474a754-1a55-4b91-dd12-89fa6de56552"
      },
      "execution_count": null,
      "outputs": [
        {
          "output_type": "stream",
          "name": "stdout",
          "text": [
            "Hello, my name is Alice and I am 25 years old.\n",
            "Hello, my name is Bob and I am 30 years old.\n"
          ]
        }
      ]
    },
    {
      "cell_type": "markdown",
      "source": [
        "**Q12-Implement a class Student with attributes name and grades. Create a method average_grade() to compute\n",
        "the average of the grades.**"
      ],
      "metadata": {
        "id": "by0NWKQRaj_T"
      }
    },
    {
      "cell_type": "code",
      "source": [
        "class Student:\n",
        "    def __init__(self, name, grades):\n",
        "        self.name = name\n",
        "        self.grades = grades  # List of grades\n",
        "\n",
        "    def average_grade(self):\n",
        "        if self.grades:\n",
        "            return sum(self.grades) / len(self.grades)\n",
        "        else:\n",
        "            return 0\n",
        "\n",
        "# Testing\n",
        "s1 = Student(\"Alice\", [85, 90, 78])\n",
        "s2 = Student(\"Bob\", [70, 88, 92, 76])\n",
        "\n",
        "print(f\"{s1.name}'s average grade: {s1.average_grade():.2f}\")  # Output: Alice's average grade: 84.33\n",
        "print(f\"{s2.name}'s average grade: {s2.average_grade():.2f}\")  # Output: Bob's average grade: 81.50\n"
      ],
      "metadata": {
        "colab": {
          "base_uri": "https://localhost:8080/"
        },
        "id": "z5-yX1CvaiDq",
        "outputId": "b980eab4-86da-4249-8ad2-ebe65c1527e6"
      },
      "execution_count": null,
      "outputs": [
        {
          "output_type": "stream",
          "name": "stdout",
          "text": [
            "Alice's average grade: 84.33\n",
            "Bob's average grade: 81.50\n"
          ]
        }
      ]
    },
    {
      "cell_type": "markdown",
      "source": [
        "**Q13- Create a class Rectangle with methods set_dimensions() to set the dimensions and area() to calculate the\n",
        "area.**"
      ],
      "metadata": {
        "id": "pYEIywQmawwG"
      }
    },
    {
      "cell_type": "code",
      "source": [
        "class Rectangle:\n",
        "    def __init__(self):\n",
        "        self.length = 0\n",
        "        self.width = 0\n",
        "\n",
        "    def set_dimensions(self, length, width):\n",
        "        self.length = length\n",
        "        self.width = width\n",
        "\n",
        "    def area(self):\n",
        "        return self.length * self.width\n",
        "\n",
        "# Testing\n",
        "rect = Rectangle()\n",
        "rect.set_dimensions(5, 3)\n",
        "print(f\"Area of rectangle: {rect.area()}\")  # Output: Area of rectangle: 15\n"
      ],
      "metadata": {
        "colab": {
          "base_uri": "https://localhost:8080/"
        },
        "id": "n9GU8G2Pat8d",
        "outputId": "5d2c9c88-f96c-45d1-b858-3ffefed97f32"
      },
      "execution_count": null,
      "outputs": [
        {
          "output_type": "stream",
          "name": "stdout",
          "text": [
            "Area of rectangle: 15\n"
          ]
        }
      ]
    },
    {
      "cell_type": "markdown",
      "source": [
        "**Q14Create a class Employee with a method calculate_salary() that computes the salary based on hours worked\n",
        "and hourly rate. Create a derived class Manager that adds a bonus to the salary.**"
      ],
      "metadata": {
        "id": "0LB5Mx4sa9rl"
      }
    },
    {
      "cell_type": "code",
      "source": [
        "# Base class\n",
        "class Employee:\n",
        "    def __init__(self, name, hours_worked, hourly_rate):\n",
        "        self.name = name\n",
        "        self.hours_worked = hours_worked\n",
        "        self.hourly_rate = hourly_rate\n",
        "\n",
        "    def calculate_salary(self):\n",
        "        return self.hours_worked * self.hourly_rate\n",
        "\n",
        "# Derived class\n",
        "class Manager(Employee):\n",
        "    def __init__(self, name, hours_worked, hourly_rate, bonus):\n",
        "        super().__init__(name, hours_worked, hourly_rate)\n",
        "        self.bonus = bonus\n",
        "\n",
        "    def calculate_salary(self):\n",
        "        base_salary = super().calculate_salary()\n",
        "        return base_salary + self.bonus\n",
        "\n",
        "# Testing\n",
        "emp = Employee(\"Alice\", 40, 25)\n",
        "mgr = Manager(\"Bob\", 45, 30, 500)\n",
        "\n",
        "print(f\"{emp.name}'s Salary: ${emp.calculate_salary()}\")  # Output: 1000\n",
        "print(f\"{mgr.name}'s Salary: ${mgr.calculate_salary()}\")  # Output: 1850\n"
      ],
      "metadata": {
        "colab": {
          "base_uri": "https://localhost:8080/"
        },
        "id": "sExRS0IRa7L6",
        "outputId": "8af86f60-9c1b-403b-b181-e86bf57eb6a0"
      },
      "execution_count": null,
      "outputs": [
        {
          "output_type": "stream",
          "name": "stdout",
          "text": [
            "Alice's Salary: $1000\n",
            "Bob's Salary: $1850\n"
          ]
        }
      ]
    },
    {
      "cell_type": "markdown",
      "source": [
        "**Q15-Create a class Product with attributes name, price, and quantity. Implement a method total_price() that\n",
        "calculates the total price of the product.**"
      ],
      "metadata": {
        "id": "IcvrEPP-bKIv"
      }
    },
    {
      "cell_type": "code",
      "source": [
        "class Product:\n",
        "    def __init__(self, name, price, quantity):\n",
        "        self.name = name\n",
        "        self.price = price      # Price per unit\n",
        "        self.quantity = quantity  # Number of units\n",
        "\n",
        "    def total_price(self):\n",
        "        return self.price * self.quantity\n",
        "\n",
        "# Testing\n",
        "p1 = Product(\"Laptop\", 50000, 2)\n",
        "p2 = Product(\"Mouse\", 500, 4)\n",
        "\n",
        "print(f\"{p1.name} total price: ₹{p1.total_price()}\")  # Outpu_\n"
      ],
      "metadata": {
        "colab": {
          "base_uri": "https://localhost:8080/"
        },
        "id": "PykpssLfbFaX",
        "outputId": "6c43e408-85a3-49d7-cd26-8fc471a6cefd"
      },
      "execution_count": null,
      "outputs": [
        {
          "output_type": "stream",
          "name": "stdout",
          "text": [
            "Laptop total price: ₹100000\n"
          ]
        }
      ]
    },
    {
      "cell_type": "markdown",
      "source": [
        "**Q16- Create a class Animal with an abstract method sound(). Create two derived classes Cow and Sheep that\n",
        "implement the sound() method.**"
      ],
      "metadata": {
        "id": "vLWYY_ldbQNY"
      }
    },
    {
      "cell_type": "code",
      "source": [
        "from abc import ABC, abstractmethod\n",
        "\n",
        "# Abstract base class\n",
        "class Animal(ABC):\n",
        "    @abstractmethod\n",
        "    def sound(self):\n",
        "        pass  # Must be implemented by derived classes\n",
        "\n",
        "# Derived class: Cow\n",
        "class Cow(Animal):\n",
        "    def sound(self):\n",
        "        return \"Moo\"\n",
        "\n",
        "# Derived class: Sheep\n",
        "class Sheep(Animal):\n",
        "    def sound(self):\n",
        "        return \"Baa\"\n",
        "\n",
        "# Testing\n",
        "cow = Cow()\n",
        "sheep = Sheep()\n",
        "\n",
        "print(f\"Cow says: {cow.sound()}\")     # Output: Moo\n",
        "print(f\"Sheep says: {sheep.sound()}\") # Output: Baa\n"
      ],
      "metadata": {
        "colab": {
          "base_uri": "https://localhost:8080/"
        },
        "id": "Rdv3maenbOPh",
        "outputId": "2e1b0863-a608-4d16-eeae-7e2b9bea682e"
      },
      "execution_count": null,
      "outputs": [
        {
          "output_type": "stream",
          "name": "stdout",
          "text": [
            "Cow says: Moo\n",
            "Sheep says: Baa\n"
          ]
        }
      ]
    },
    {
      "cell_type": "markdown",
      "source": [
        "**Q17-Create a class Book with attributes title, author, and year_published. Add a method get_book_info() that\n",
        "returns a formatted string with the book's details.**"
      ],
      "metadata": {
        "id": "JDKZw_u2bWz1"
      }
    },
    {
      "cell_type": "code",
      "source": [
        "class Book:\n",
        "    def __init__(self, title, author, year_published):\n",
        "        self.title = title\n",
        "        self.author = author\n",
        "        self.year_published = year_published\n",
        "\n",
        "    def get_book_info(self):\n",
        "        return f\"'{self.title}' by {self.author}, published in {self.year_published}\"\n",
        "\n",
        "# Testing\n",
        "book1 = Book(\"To Kill a Mockingbird\", \"Harper Lee\", 1960)\n",
        "book2 = Book(\"1984\", \"George Orwell\", 1949)\n",
        "\n",
        "print(book1.get_book_info())  # Output: 'To Kill a Mockingbird' by\n"
      ],
      "metadata": {
        "colab": {
          "base_uri": "https://localhost:8080/"
        },
        "id": "tksbGYHBbVVM",
        "outputId": "5c21a4c4-e570-4e75-f738-9ec26e36588a"
      },
      "execution_count": null,
      "outputs": [
        {
          "output_type": "stream",
          "name": "stdout",
          "text": [
            "'To Kill a Mockingbird' by Harper Lee, published in 1960\n"
          ]
        }
      ]
    },
    {
      "cell_type": "markdown",
      "source": [
        "**Q18-Create a class House with attributes address and price. Create a derived class Mansion that adds an\n",
        "attribute number_of_rooms.**"
      ],
      "metadata": {
        "id": "WK146NdpbkM0"
      }
    },
    {
      "cell_type": "code",
      "source": [
        "class House:\n",
        "    \"\"\"\n",
        "    Represents a house with an address and a price.\n",
        "    \"\"\"\n",
        "    def __init__(self, address, price):\n",
        "        \"\"\"\n",
        "        Initializes a House object.\n",
        "\n",
        "        Args:\n",
        "            address (str): The address of the house.\n",
        "            price (float): The price of the house.\n",
        "        \"\"\"\n",
        "        self.address = address\n",
        "        self.price = price\n",
        "\n",
        "    def get_house_info(self):\n",
        "        \"\"\"\n",
        "        Returns a string containing the house's address and price.\n",
        "        \"\"\"\n",
        "        return f\"Address: {self.address}, Price: ${self.price:,.2f}\"\n",
        "\n",
        "class Mansion(House):\n",
        "    \"\"\"\n",
        "    Represents a mansion, inheriting from House and adding the number of rooms.\n",
        "    \"\"\"\n",
        "    def __init__(self, address, price, number_of_rooms):\n",
        "        \"\"\"\n",
        "        Initializes a Mansion object.\n",
        "\n",
        "        Args:\n",
        "            address (str): The address of the mansion.\n",
        "            price (float): The price of the mansion.\n",
        "            number_of_rooms (int): The number of rooms in the mansion.\n",
        "        \"\"\"\n",
        "        super().__init__(address, price)  # Call the parent class's constructor\n",
        "        self.number_of_rooms = number_of_rooms\n",
        "\n",
        "    def get_mansion_info(self):\n",
        "        \"\"\"\n",
        "        Returns a string containing the mansion's address, price, and number of rooms.\n",
        "        \"\"\"\n",
        "        return f\"{self.get_house_info()}, Rooms: {self.number_of_rooms}\"\n"
      ],
      "metadata": {
        "id": "vMyw_1O1bqDu"
      },
      "execution_count": null,
      "outputs": []
    }
  ]
}